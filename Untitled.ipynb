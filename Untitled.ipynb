{
 "cells": [
  {
   "cell_type": "code",
   "execution_count": 1,
   "metadata": {},
   "outputs": [],
   "source": [
    "# initial imports\n",
    "import pandas as pd\n",
    "import os\n",
    "from dotenv import load_dotenv\n",
    "import alpaca_trade_api as tradeapi\n",
    "from MCForecastTools import MCSimulation\n",
    "%matplotlib inline"
   ]
  },
  {
   "cell_type": "code",
   "execution_count": 2,
   "metadata": {},
   "outputs": [
    {
     "data": {
      "text/plain": [
       "True"
      ]
     },
     "execution_count": 2,
     "metadata": {},
     "output_type": "execute_result"
    }
   ],
   "source": [
    "# load env\n",
    "load_dotenv()"
   ]
  },
  {
   "cell_type": "code",
   "execution_count": 3,
   "metadata": {},
   "outputs": [],
   "source": [
    "# read csv\n",
    "data = pd.read_csv(\"Resources/sp500_with_esg.csv\")"
   ]
  },
  {
   "cell_type": "code",
   "execution_count": 30,
   "metadata": {},
   "outputs": [],
   "source": [
    "alpaca_api_key = os.getenv(\"ALPACA_API_KEY\")\n",
    "alpaca_secret_key = os.getenv(\"ALPACA_SECRET_KEY\")\n",
    "quandl_api_key = os.getenv()"
   ]
  },
  {
   "cell_type": "code",
   "execution_count": 5,
   "metadata": {},
   "outputs": [],
   "source": [
    "# create api object\n",
    "api = tradeapi.REST(\n",
    "    alpaca_api_key,\n",
    "    alpaca_secret_key,\n",
    "    api_version= \"v2\")"
   ]
  },
  {
   "cell_type": "code",
   "execution_count": 6,
   "metadata": {},
   "outputs": [
    {
     "data": {
      "text/html": [
       "<div>\n",
       "<style scoped>\n",
       "    .dataframe tbody tr th:only-of-type {\n",
       "        vertical-align: middle;\n",
       "    }\n",
       "\n",
       "    .dataframe tbody tr th {\n",
       "        vertical-align: top;\n",
       "    }\n",
       "\n",
       "    .dataframe thead th {\n",
       "        text-align: right;\n",
       "    }\n",
       "</style>\n",
       "<table border=\"1\" class=\"dataframe\">\n",
       "  <thead>\n",
       "    <tr style=\"text-align: right;\">\n",
       "      <th></th>\n",
       "      <th>Unnamed: 0</th>\n",
       "      <th>Symbol</th>\n",
       "      <th>ESG Score</th>\n",
       "    </tr>\n",
       "  </thead>\n",
       "  <tbody>\n",
       "    <tr>\n",
       "      <th>0</th>\n",
       "      <td>0</td>\n",
       "      <td>MMM</td>\n",
       "      <td>35.0</td>\n",
       "    </tr>\n",
       "    <tr>\n",
       "      <th>1</th>\n",
       "      <td>1</td>\n",
       "      <td>AOS</td>\n",
       "      <td>33.0</td>\n",
       "    </tr>\n",
       "    <tr>\n",
       "      <th>2</th>\n",
       "      <td>2</td>\n",
       "      <td>ABT</td>\n",
       "      <td>30.0</td>\n",
       "    </tr>\n",
       "    <tr>\n",
       "      <th>3</th>\n",
       "      <td>3</td>\n",
       "      <td>ABBV</td>\n",
       "      <td>31.0</td>\n",
       "    </tr>\n",
       "    <tr>\n",
       "      <th>4</th>\n",
       "      <td>4</td>\n",
       "      <td>ABMD</td>\n",
       "      <td>NaN</td>\n",
       "    </tr>\n",
       "  </tbody>\n",
       "</table>\n",
       "</div>"
      ],
      "text/plain": [
       "  Unnamed: 0 Symbol  ESG Score\n",
       "0          0    MMM       35.0\n",
       "1          1    AOS       33.0\n",
       "2          2    ABT       30.0\n",
       "3          3   ABBV       31.0\n",
       "4          4   ABMD        NaN"
      ]
     },
     "execution_count": 6,
     "metadata": {},
     "output_type": "execute_result"
    }
   ],
   "source": [
    "data.head()"
   ]
  },
  {
   "cell_type": "code",
   "execution_count": 7,
   "metadata": {},
   "outputs": [],
   "source": [
    "# drop columns clean data\n",
    "data.drop(columns=[\"Unnamed: 0\"], inplace=True)"
   ]
  },
  {
   "cell_type": "code",
   "execution_count": 8,
   "metadata": {},
   "outputs": [],
   "source": [
    "# drop nulls\n",
    "data.dropna(inplace=True)"
   ]
  },
  {
   "cell_type": "code",
   "execution_count": 13,
   "metadata": {},
   "outputs": [],
   "source": [
    "# drop rows equal to zero\n",
    "data.drop([505], inplace=True)"
   ]
  },
  {
   "cell_type": "code",
   "execution_count": 41,
   "metadata": {},
   "outputs": [
    {
     "data": {
      "text/plain": [
       "pandas.core.frame.DataFrame"
      ]
     },
     "execution_count": 41,
     "metadata": {},
     "output_type": "execute_result"
    }
   ],
   "source": [
    "data_sorted = data.sort_values(\"ESG Score\")\n",
    "esg_data = data_sorted.nsmallest(90, \"ESG Score\")\n",
    "sin_data = data_sorted.nlargest(90, \"ESG Score\")\n",
    "type(sin_data)"
   ]
  },
  {
   "cell_type": "code",
   "execution_count": 26,
   "metadata": {},
   "outputs": [],
   "source": [
    "timeframe = \"1D\"\n",
    "start_date = pd.Timestamp('2005-11-06', tz='America/New_York').isoformat()\n",
    "end_date = pd.Timestamp('2020-10-30', tz='America/New_York').isoformat()"
   ]
  },
  {
   "cell_type": "code",
   "execution_count": 54,
   "metadata": {},
   "outputs": [],
   "source": [
    "# get stock prices\n",
    "esg_tickers = esg_data[\"Symbol\"]\n",
    "esg_df = api.get_barset(\n",
    "    esg_tickers,\n",
    "    timeframe,\n",
    "    start= start_date,\n",
    "    end= end_date).df\n",
    "\n",
    "sin_tickers = sin_data[\"Symbol\"]\n",
    "sin_df = api.get_barset(\n",
    "    sin_tickers,\n",
    "    timeframe,\n",
    "    start= start_date,\n",
    "    end= end_date).df"
   ]
  },
  {
   "cell_type": "code",
   "execution_count": 103,
   "metadata": {},
   "outputs": [
    {
     "data": {
      "text/html": [
       "<div>\n",
       "<style scoped>\n",
       "    .dataframe tbody tr th:only-of-type {\n",
       "        vertical-align: middle;\n",
       "    }\n",
       "\n",
       "    .dataframe tbody tr th {\n",
       "        vertical-align: top;\n",
       "    }\n",
       "\n",
       "    .dataframe thead tr th {\n",
       "        text-align: left;\n",
       "    }\n",
       "</style>\n",
       "<table border=\"1\" class=\"dataframe\">\n",
       "  <thead>\n",
       "    <tr>\n",
       "      <th></th>\n",
       "      <th>AAP</th>\n",
       "      <th>ABC</th>\n",
       "      <th>ACN</th>\n",
       "      <th>ADBE</th>\n",
       "      <th>ADP</th>\n",
       "      <th>AMAT</th>\n",
       "      <th>ANSS</th>\n",
       "      <th>ANTM</th>\n",
       "      <th>APD</th>\n",
       "      <th>APTV</th>\n",
       "      <th>...</th>\n",
       "      <th>TPR</th>\n",
       "      <th>TSCO</th>\n",
       "      <th>TT</th>\n",
       "      <th>UDR</th>\n",
       "      <th>VFC</th>\n",
       "      <th>VTR</th>\n",
       "      <th>WDC</th>\n",
       "      <th>WELL</th>\n",
       "      <th>WM</th>\n",
       "      <th>XYL</th>\n",
       "    </tr>\n",
       "    <tr>\n",
       "      <th></th>\n",
       "      <th>close</th>\n",
       "      <th>close</th>\n",
       "      <th>close</th>\n",
       "      <th>close</th>\n",
       "      <th>close</th>\n",
       "      <th>close</th>\n",
       "      <th>close</th>\n",
       "      <th>close</th>\n",
       "      <th>close</th>\n",
       "      <th>close</th>\n",
       "      <th>...</th>\n",
       "      <th>close</th>\n",
       "      <th>close</th>\n",
       "      <th>close</th>\n",
       "      <th>close</th>\n",
       "      <th>close</th>\n",
       "      <th>close</th>\n",
       "      <th>close</th>\n",
       "      <th>close</th>\n",
       "      <th>close</th>\n",
       "      <th>close</th>\n",
       "    </tr>\n",
       "  </thead>\n",
       "  <tbody>\n",
       "    <tr>\n",
       "      <th>2008-01-02 00:00:00-05:00</th>\n",
       "      <td>37.58</td>\n",
       "      <td>12.877</td>\n",
       "      <td>36.05</td>\n",
       "      <td>41.71</td>\n",
       "      <td>37.95</td>\n",
       "      <td>17.41</td>\n",
       "      <td>40.37</td>\n",
       "      <td>76.68</td>\n",
       "      <td>68.51</td>\n",
       "      <td>NaN</td>\n",
       "      <td>...</td>\n",
       "      <td>30.59</td>\n",
       "      <td>8.535</td>\n",
       "      <td>NaN</td>\n",
       "      <td>19.95</td>\n",
       "      <td>16.167</td>\n",
       "      <td>44.43</td>\n",
       "      <td>28.59</td>\n",
       "      <td>45.14</td>\n",
       "      <td>32.26</td>\n",
       "      <td>NaN</td>\n",
       "    </tr>\n",
       "    <tr>\n",
       "      <th>2008-01-03 00:00:00-05:00</th>\n",
       "      <td>37.91</td>\n",
       "      <td>29.840</td>\n",
       "      <td>35.49</td>\n",
       "      <td>41.78</td>\n",
       "      <td>37.67</td>\n",
       "      <td>17.10</td>\n",
       "      <td>40.25</td>\n",
       "      <td>77.56</td>\n",
       "      <td>69.14</td>\n",
       "      <td>NaN</td>\n",
       "      <td>...</td>\n",
       "      <td>29.71</td>\n",
       "      <td>8.263</td>\n",
       "      <td>NaN</td>\n",
       "      <td>19.57</td>\n",
       "      <td>15.831</td>\n",
       "      <td>43.22</td>\n",
       "      <td>28.37</td>\n",
       "      <td>44.31</td>\n",
       "      <td>32.26</td>\n",
       "      <td>NaN</td>\n",
       "    </tr>\n",
       "    <tr>\n",
       "      <th>2008-01-04 00:00:00-05:00</th>\n",
       "      <td>35.69</td>\n",
       "      <td>29.193</td>\n",
       "      <td>34.87</td>\n",
       "      <td>40.25</td>\n",
       "      <td>35.96</td>\n",
       "      <td>16.75</td>\n",
       "      <td>38.59</td>\n",
       "      <td>87.63</td>\n",
       "      <td>68.40</td>\n",
       "      <td>NaN</td>\n",
       "      <td>...</td>\n",
       "      <td>28.09</td>\n",
       "      <td>7.973</td>\n",
       "      <td>NaN</td>\n",
       "      <td>19.36</td>\n",
       "      <td>15.190</td>\n",
       "      <td>41.20</td>\n",
       "      <td>25.63</td>\n",
       "      <td>43.08</td>\n",
       "      <td>31.05</td>\n",
       "      <td>NaN</td>\n",
       "    </tr>\n",
       "    <tr>\n",
       "      <th>2008-01-07 00:00:00-05:00</th>\n",
       "      <td>37.25</td>\n",
       "      <td>12.827</td>\n",
       "      <td>33.89</td>\n",
       "      <td>40.25</td>\n",
       "      <td>36.79</td>\n",
       "      <td>16.73</td>\n",
       "      <td>38.07</td>\n",
       "      <td>78.69</td>\n",
       "      <td>96.57</td>\n",
       "      <td>NaN</td>\n",
       "      <td>...</td>\n",
       "      <td>28.30</td>\n",
       "      <td>8.118</td>\n",
       "      <td>NaN</td>\n",
       "      <td>19.75</td>\n",
       "      <td>15.857</td>\n",
       "      <td>41.76</td>\n",
       "      <td>25.30</td>\n",
       "      <td>43.15</td>\n",
       "      <td>31.57</td>\n",
       "      <td>NaN</td>\n",
       "    </tr>\n",
       "    <tr>\n",
       "      <th>2008-01-08 00:00:00-05:00</th>\n",
       "      <td>35.32</td>\n",
       "      <td>30.467</td>\n",
       "      <td>33.95</td>\n",
       "      <td>39.24</td>\n",
       "      <td>36.41</td>\n",
       "      <td>16.32</td>\n",
       "      <td>37.59</td>\n",
       "      <td>77.98</td>\n",
       "      <td>66.92</td>\n",
       "      <td>NaN</td>\n",
       "      <td>...</td>\n",
       "      <td>28.21</td>\n",
       "      <td>7.938</td>\n",
       "      <td>NaN</td>\n",
       "      <td>19.42</td>\n",
       "      <td>15.346</td>\n",
       "      <td>41.10</td>\n",
       "      <td>23.43</td>\n",
       "      <td>42.20</td>\n",
       "      <td>31.72</td>\n",
       "      <td>NaN</td>\n",
       "    </tr>\n",
       "  </tbody>\n",
       "</table>\n",
       "<p>5 rows × 90 columns</p>\n",
       "</div>"
      ],
      "text/plain": [
       "                             AAP     ABC    ACN   ADBE    ADP   AMAT   ANSS  \\\n",
       "                           close   close  close  close  close  close  close   \n",
       "2008-01-02 00:00:00-05:00  37.58  12.877  36.05  41.71  37.95  17.41  40.37   \n",
       "2008-01-03 00:00:00-05:00  37.91  29.840  35.49  41.78  37.67  17.10  40.25   \n",
       "2008-01-04 00:00:00-05:00  35.69  29.193  34.87  40.25  35.96  16.75  38.59   \n",
       "2008-01-07 00:00:00-05:00  37.25  12.827  33.89  40.25  36.79  16.73  38.07   \n",
       "2008-01-08 00:00:00-05:00  35.32  30.467  33.95  39.24  36.41  16.32  37.59   \n",
       "\n",
       "                            ANTM    APD  APTV  ...    TPR   TSCO    TT    UDR  \\\n",
       "                           close  close close  ...  close  close close  close   \n",
       "2008-01-02 00:00:00-05:00  76.68  68.51   NaN  ...  30.59  8.535   NaN  19.95   \n",
       "2008-01-03 00:00:00-05:00  77.56  69.14   NaN  ...  29.71  8.263   NaN  19.57   \n",
       "2008-01-04 00:00:00-05:00  87.63  68.40   NaN  ...  28.09  7.973   NaN  19.36   \n",
       "2008-01-07 00:00:00-05:00  78.69  96.57   NaN  ...  28.30  8.118   NaN  19.75   \n",
       "2008-01-08 00:00:00-05:00  77.98  66.92   NaN  ...  28.21  7.938   NaN  19.42   \n",
       "\n",
       "                              VFC    VTR    WDC   WELL     WM   XYL  \n",
       "                            close  close  close  close  close close  \n",
       "2008-01-02 00:00:00-05:00  16.167  44.43  28.59  45.14  32.26   NaN  \n",
       "2008-01-03 00:00:00-05:00  15.831  43.22  28.37  44.31  32.26   NaN  \n",
       "2008-01-04 00:00:00-05:00  15.190  41.20  25.63  43.08  31.05   NaN  \n",
       "2008-01-07 00:00:00-05:00  15.857  41.76  25.30  43.15  31.57   NaN  \n",
       "2008-01-08 00:00:00-05:00  15.346  41.10  23.43  42.20  31.72   NaN  \n",
       "\n",
       "[5 rows x 90 columns]"
      ]
     },
     "execution_count": 103,
     "metadata": {},
     "output_type": "execute_result"
    }
   ],
   "source": [
    "# slice data\n",
    "# esg_df.columns\n",
    "esg_close = esg_df.loc[:,esg_df.columns.get_level_values(1).isin({\"close\"})]\n",
    "esg_close.head()\n"
   ]
  },
  {
   "cell_type": "code",
   "execution_count": 104,
   "metadata": {},
   "outputs": [],
   "source": [
    "# esg_column_list = []\n",
    "# for item in esg_close.columns:\n",
    "#     esg_column_list.append(item[0])\n",
    "# print(esg_column_list)\n",
    "# valid_columns = pd.DataFrame()\n",
    "# for column in esg_column_list:\n",
    "#     col = esg_close[column][\"close\"]\n",
    "#     if col.isna().sum() == 0:)\n",
    "\n",
    "esg_close.columns = [col[0] for col in esg_close.columns]\n",
    "\n",
    "valid_cols = []\n",
    "for col in esg_close.columns:\n",
    "    if not esg_close[col].isnull().values.any():\n",
    "        valid_cols.append(col)\n",
    "        \n",
    "esg_close[valid_cols].to_csv(\"esg_stock_data.csv\")"
   ]
  },
  {
   "cell_type": "code",
   "execution_count": null,
   "metadata": {},
   "outputs": [],
   "source": [
    "# clean data,get date and close, and set index\n",
    "\n",
    "# sin_data.pct_change()\n",
    "# esg_data.pct_change()\n",
    "# dropna after calculating pct change\n",
    "# plot daily returns(line)"
   ]
  },
  {
   "cell_type": "code",
   "execution_count": null,
   "metadata": {},
   "outputs": [],
   "source": [
    "# MC_shares = MCSimulation(\n",
    "#     portfolio_data = df_stock_data,\n",
    "#     num_simulation = 500,\n",
    "#     num_trading_days = 252*30\n",
    "# )"
   ]
  },
  {
   "cell_type": "code",
   "execution_count": null,
   "metadata": {},
   "outputs": [],
   "source": [
    "# MC_shares.calc_cumulative_return()\n",
    "# MC_shares.plot_simulation()\n",
    "# MC_shares.plot_distribution()\n",
    "# MC_shares.summarize_cumulative_return()"
   ]
  }
 ],
 "metadata": {
  "kernelspec": {
   "display_name": "Python [conda env:alpacaenv]",
   "language": "python",
   "name": "conda-env-alpacaenv-py"
  },
  "language_info": {
   "codemirror_mode": {
    "name": "ipython",
    "version": 3
   },
   "file_extension": ".py",
   "mimetype": "text/x-python",
   "name": "python",
   "nbconvert_exporter": "python",
   "pygments_lexer": "ipython3",
   "version": "3.7.7"
  }
 },
 "nbformat": 4,
 "nbformat_minor": 4
}
